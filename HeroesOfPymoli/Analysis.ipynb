{
 "cells": [
  {
   "cell_type": "code",
   "execution_count": 1,
   "metadata": {},
   "outputs": [],
   "source": [
    "# Dependencies and Setup\n",
    "import pandas as pd\n",
    "import numpy as np\n",
    "pd.options.display.float_format = '${:,.2f}'.format  "
   ]
  },
  {
   "cell_type": "code",
   "execution_count": 2,
   "metadata": {},
   "outputs": [
    {
     "output_type": "execute_result",
     "data": {
      "text/plain": "   Purchase ID             SN  Age Gender  Item ID  \\\n0            0        Lisim78   20   Male      108   \n1            1    Lisovynya38   40   Male      143   \n2            2     Ithergue48   24   Male       92   \n3            3  Chamassasya86   24   Male      100   \n4            4      Iskosia90   23   Male      131   \n\n                                   Item Name  Price  \n0  Extraction, Quickblade Of Trembling Hands  $3.53  \n1                          Frenzied Scimitar  $1.56  \n2                               Final Critic  $4.88  \n3                                Blindscythe  $3.27  \n4                                       Fury  $1.44  ",
      "text/html": "<div>\n<style scoped>\n    .dataframe tbody tr th:only-of-type {\n        vertical-align: middle;\n    }\n\n    .dataframe tbody tr th {\n        vertical-align: top;\n    }\n\n    .dataframe thead th {\n        text-align: right;\n    }\n</style>\n<table border=\"1\" class=\"dataframe\">\n  <thead>\n    <tr style=\"text-align: right;\">\n      <th></th>\n      <th>Purchase ID</th>\n      <th>SN</th>\n      <th>Age</th>\n      <th>Gender</th>\n      <th>Item ID</th>\n      <th>Item Name</th>\n      <th>Price</th>\n    </tr>\n  </thead>\n  <tbody>\n    <tr>\n      <th>0</th>\n      <td>0</td>\n      <td>Lisim78</td>\n      <td>20</td>\n      <td>Male</td>\n      <td>108</td>\n      <td>Extraction, Quickblade Of Trembling Hands</td>\n      <td>$3.53</td>\n    </tr>\n    <tr>\n      <th>1</th>\n      <td>1</td>\n      <td>Lisovynya38</td>\n      <td>40</td>\n      <td>Male</td>\n      <td>143</td>\n      <td>Frenzied Scimitar</td>\n      <td>$1.56</td>\n    </tr>\n    <tr>\n      <th>2</th>\n      <td>2</td>\n      <td>Ithergue48</td>\n      <td>24</td>\n      <td>Male</td>\n      <td>92</td>\n      <td>Final Critic</td>\n      <td>$4.88</td>\n    </tr>\n    <tr>\n      <th>3</th>\n      <td>3</td>\n      <td>Chamassasya86</td>\n      <td>24</td>\n      <td>Male</td>\n      <td>100</td>\n      <td>Blindscythe</td>\n      <td>$3.27</td>\n    </tr>\n    <tr>\n      <th>4</th>\n      <td>4</td>\n      <td>Iskosia90</td>\n      <td>23</td>\n      <td>Male</td>\n      <td>131</td>\n      <td>Fury</td>\n      <td>$1.44</td>\n    </tr>\n  </tbody>\n</table>\n</div>"
     },
     "metadata": {},
     "execution_count": 2
    }
   ],
   "source": [
    "# File to Load\n",
    "file_to_load = \"purchase_data.csv\"\n",
    "\n",
    "# Read Purchasing File and store into Pandas data frame\n",
    "purchase_data = pd.read_csv(file_to_load)\n",
    "\n",
    "#Display first five columns\n",
    "purchase_data.head()"
   ]
  },
  {
   "cell_type": "code",
   "execution_count": 3,
   "metadata": {},
   "outputs": [
    {
     "output_type": "execute_result",
     "data": {
      "text/plain": "   Total Players\n0            576",
      "text/html": "<div>\n<style scoped>\n    .dataframe tbody tr th:only-of-type {\n        vertical-align: middle;\n    }\n\n    .dataframe tbody tr th {\n        vertical-align: top;\n    }\n\n    .dataframe thead th {\n        text-align: right;\n    }\n</style>\n<table border=\"1\" class=\"dataframe\">\n  <thead>\n    <tr style=\"text-align: right;\">\n      <th></th>\n      <th>Total Players</th>\n    </tr>\n  </thead>\n  <tbody>\n    <tr>\n      <th>0</th>\n      <td>576</td>\n    </tr>\n  </tbody>\n</table>\n</div>"
     },
     "metadata": {},
     "execution_count": 3
    }
   ],
   "source": [
    "#    PLAYER COUNT\n",
    "\n",
    "#Display the total number of players\n",
    "player_count = [len(purchase_data[\"SN\"].unique())]\n",
    "\n",
    "# Create the pandas DataFrame \n",
    "player_count_df = pd.DataFrame(player_count, columns = ['Total Players'])\n",
    "\n",
    "# print dataframe\n",
    "player_count_df"
   ]
  },
  {
   "cell_type": "code",
   "execution_count": 4,
   "metadata": {},
   "outputs": [],
   "source": [
    "#     PURCHASING ANALYSIS (TOTAL)\n",
    "\n",
    "# Run basic calculations to obtain number of unique items, average price, etc.\n",
    "#Optional: give the displayed data cleaner formatting\n",
    "\n",
    "item_count = len(purchase_data[\"Item Name\"].unique())\n",
    "avg_price= '$' + str(round(purchase_data[\"Price\"].mean(),2))\n",
    "purchase_count = purchase_data[\"Purchase ID\"].count()\n",
    "total_revenue = '$' + str(round(sum(purchase_data[\"Price\"]),2))"
   ]
  },
  {
   "cell_type": "code",
   "execution_count": 5,
   "metadata": {},
   "outputs": [
    {
     "output_type": "execute_result",
     "data": {
      "text/plain": "   Number of Unique Items Average Price  Number of Purchases Total Revenue\n0                     179         $3.05                  780      $2379.77",
      "text/html": "<div>\n<style scoped>\n    .dataframe tbody tr th:only-of-type {\n        vertical-align: middle;\n    }\n\n    .dataframe tbody tr th {\n        vertical-align: top;\n    }\n\n    .dataframe thead th {\n        text-align: right;\n    }\n</style>\n<table border=\"1\" class=\"dataframe\">\n  <thead>\n    <tr style=\"text-align: right;\">\n      <th></th>\n      <th>Number of Unique Items</th>\n      <th>Average Price</th>\n      <th>Number of Purchases</th>\n      <th>Total Revenue</th>\n    </tr>\n  </thead>\n  <tbody>\n    <tr>\n      <th>0</th>\n      <td>179</td>\n      <td>$3.05</td>\n      <td>780</td>\n      <td>$2379.77</td>\n    </tr>\n  </tbody>\n</table>\n</div>"
     },
     "metadata": {},
     "execution_count": 5
    }
   ],
   "source": [
    "#Create a summary data frame to hold the results\n",
    "summary = [[item_count, avg_price, purchase_count, total_revenue]]\n",
    "summary_df = pd.DataFrame(summary, columns = [\n",
    "    'Number of Unique Items', \n",
    "    'Average Price', \n",
    "    'Number of Purchases', \n",
    "    'Total Revenue'\n",
    "    ]\n",
    ")\n",
    "summary_df"
   ]
  },
  {
   "cell_type": "code",
   "execution_count": 6,
   "metadata": {},
   "outputs": [
    {
     "output_type": "execute_result",
     "data": {
      "text/plain": "{'Adairialis76': [467], 'Adastirin33': [142], 'Aeda94': [388], 'Aela59': [28], 'Aelaria33': [630], 'Aelastirin39': [218, 766], 'Aelidru27': [705], 'Aelin32': [52, 87, 584], 'Aelly27': [43, 428], 'Aellynun67': [286], 'Aellyria80': [746], 'Aelollo59': [203, 431], 'Aenarap34': [183], 'Aeral43': [263], 'Aeral68': [674], 'Aeral97': [167], 'Aeralria27': [32], 'Aeralstical35': [583], 'Aeri84': [303], 'Aerillorin70': [381], 'Aerithllora36': [274, 578], 'Aerithnucal56': [324], 'Aerithnuphos61': [517], 'Aerithriaphos45': [40], 'Aerithriaphos46': [236], 'Aesri53': [541], 'Aesty53': [124, 253], 'Aestysu37': [309, 416], 'Aesur96': [468], 'Aesurstilis64': [405], 'Aethedru70': [775], 'Aidai53': [219], 'Aidai61': [282], 'Aidai73': [720], 'Aidaillodeu39': [42, 146], 'Aidain51': [516], 'Aidaira26': [730], 'Aiduecal76': [97, 670], 'Aiduesu86': [429], 'Aillyriadru65': [523], 'Aillyrin83': [155], 'Aina42': [83, 363, 373], 'Aina43': [94], 'Airi27': [637], 'Aisur51': [184], 'Aisurdru79': [440, 618], 'Aisurria69': [423], 'Aithelis62': [703, 760], 'Alaephos75': [295], 'Alaesu77': [494], 'Alaesu91': [285], 'Alarap40': [391], 'Ali84': [360, 635], 'Alim85': [226], 'Alo38': [63], 'Anallorgue57': [272, 311], 'Ardcil81': [398, 544], 'Ardonmol96': [566], 'Arin32': [627, 734], 'Arirgue63': [470], 'Assassa81': [631], 'Assassasta79': [270, 768], 'Assastnya25': [565], 'Assehoan67': [258], 'Assesi91': [420], 'Assilsan72': [666], 'Assim27': [761], 'Assirra56': [587], 'Assistasda42': [73, 351], 'Assistasda90': [460], 'Assjaskan56': [79], 'Assjaskan73': [13], 'Assosia88': [41], 'Assylla81': [729], 'Asty82': [680], 'Asur53': [390, 762, 772], 'Asur96': [48], 'Baelollodeu94': [178, 569], 'Bartassaya73': [387, 644], 'Caesrinusuir82': [171, 671], 'Ceoral34': [329], 'Chadadarla74': [310, 614], 'Chadilsasta32': [331, 343], 'Chadirra90': [359], 'Chadista79': [186, 506], 'Chadistaya75': [92], 'Chadjask77': [686], 'Chadjask85': [647], 'Chadolyla44': [91, 198, 711], 'Chadossa56': [570], 'Chadossa89': [98], 'Chamadar79': [262], 'Chamadarnya73': [458], 'Chamadarsda63': [642], 'Chamalo71': [19], 'Chamassasya86': [3], 'Chamast86': [653], 'Chamastya76': [307], 'Chamilsala65': [347, 504], 'Chamiman85': [733], ...}"
     },
     "metadata": {},
     "execution_count": 6
    }
   ],
   "source": [
    "# Using GroupBy in order to separate the data into fields according to \"SN\" values\n",
    "SN_groups = purchase_data.groupby(['SN'])\n",
    "\n",
    "# The object returned is a \"GroupBy\" object and cannot be viewed normally...\n",
    "#print(SN_groups)\n",
    "\n",
    "# In order to be visualized, a data function must be used...\n",
    "SN_groups.groups"
   ]
  },
  {
   "cell_type": "code",
   "execution_count": 7,
   "metadata": {},
   "outputs": [
    {
     "output_type": "execute_result",
     "data": {
      "text/plain": "576"
     },
     "metadata": {},
     "execution_count": 7
    }
   ],
   "source": [
    "len(SN_groups)"
   ]
  },
  {
   "cell_type": "code",
   "execution_count": 8,
   "metadata": {},
   "outputs": [
    {
     "output_type": "execute_result",
     "data": {
      "text/plain": "576"
     },
     "metadata": {},
     "execution_count": 8
    }
   ],
   "source": [
    "cut_df = purchase_data.drop_duplicates(\"SN\")\n",
    "len(cut_df)"
   ]
  },
  {
   "cell_type": "code",
   "execution_count": 9,
   "metadata": {},
   "outputs": [],
   "source": [
    "#     GENDER DEMOGRAPHICS\n",
    "\n",
    "# Calculate count for each gender\n",
    "male_count = 0\n",
    "female_count = 0\n",
    "other_count = 0\n",
    "\n",
    "for gender in cut_df[\"Gender\"]:\n",
    "    if gender == \"Male\":\n",
    "        male_count += 1\n",
    "    if gender == \"Female\":\n",
    "        female_count += 1\n",
    "    if gender == \"Other / Non-Disclosed\":\n",
    "        other_count += 1\n",
    "    else: False\n",
    "        \n",
    "#Percentage and Count of Male Players\n",
    "male_perc = str(round((male_count / len(cut_df) * 100), 2)) + \"%\"\n",
    "#Percentage and Count of Female Players\n",
    "female_perc = str(round((female_count / len(cut_df) * 100), 2)) + \"%\"\n",
    "#Percentage and Count of Other / Non-Disclosed\n",
    "other_perc = str(round((other_count / len(cut_df) * 100), 2)) + \"%\"\n",
    "\n"
   ]
  },
  {
   "cell_type": "code",
   "execution_count": 10,
   "metadata": {},
   "outputs": [
    {
     "output_type": "execute_result",
     "data": {
      "text/plain": "                       Total Count Percentage of Players\nMale                           484                84.03%\nFemale                          81                14.06%\nOther / Non-Disclosed           11                 1.91%",
      "text/html": "<div>\n<style scoped>\n    .dataframe tbody tr th:only-of-type {\n        vertical-align: middle;\n    }\n\n    .dataframe tbody tr th {\n        vertical-align: top;\n    }\n\n    .dataframe thead th {\n        text-align: right;\n    }\n</style>\n<table border=\"1\" class=\"dataframe\">\n  <thead>\n    <tr style=\"text-align: right;\">\n      <th></th>\n      <th>Total Count</th>\n      <th>Percentage of Players</th>\n    </tr>\n  </thead>\n  <tbody>\n    <tr>\n      <th>Male</th>\n      <td>484</td>\n      <td>84.03%</td>\n    </tr>\n    <tr>\n      <th>Female</th>\n      <td>81</td>\n      <td>14.06%</td>\n    </tr>\n    <tr>\n      <th>Other / Non-Disclosed</th>\n      <td>11</td>\n      <td>1.91%</td>\n    </tr>\n  </tbody>\n</table>\n</div>"
     },
     "metadata": {},
     "execution_count": 10
    }
   ],
   "source": [
    "# initialise data of lists. \n",
    "data = {'Total Count':[male_count, female_count, other_count], 'Percentage of Players':[male_perc, female_perc, other_perc]} \n",
    "  \n",
    "# Creates pandas DataFrame. \n",
    "df = pd.DataFrame(data, index =['Male', 'Female', 'Other / Non-Disclosed']) \n",
    "  \n",
    "# print the data \n",
    "df \n"
   ]
  },
  {
   "cell_type": "code",
   "execution_count": 11,
   "metadata": {},
   "outputs": [
    {
     "output_type": "execute_result",
     "data": {
      "text/plain": "Gender\nFemale                   113\nMale                     652\nOther / Non-Disclosed     15\nName: Price, dtype: int64"
     },
     "metadata": {},
     "execution_count": 11
    }
   ],
   "source": [
    "price_data = purchase_data.groupby([\"Gender\"])\n",
    "\n",
    "# Calculate purchase count for each gender\n",
    "\n",
    "total_purchases = price_data.count()[\"Price\"]\n",
    "total_purchases"
   ]
  },
  {
   "cell_type": "code",
   "execution_count": 12,
   "metadata": {},
   "outputs": [
    {
     "output_type": "execute_result",
     "data": {
      "text/plain": "Gender\nFemale                  $3.20\nMale                    $3.02\nOther / Non-Disclosed   $3.35\nName: Price, dtype: float64"
     },
     "metadata": {},
     "execution_count": 12
    }
   ],
   "source": [
    "# Average Purchase Price for each gender\n",
    "\n",
    "average_purchase_price = price_data.mean()[\"Price\"].round(2)\n",
    "average_purchase_price"
   ]
  },
  {
   "cell_type": "code",
   "execution_count": 13,
   "metadata": {},
   "outputs": [
    {
     "output_type": "execute_result",
     "data": {
      "text/plain": "Gender\nFemale                    $361.94\nMale                    $1,967.64\nOther / Non-Disclosed      $50.19\nName: Price, dtype: float64"
     },
     "metadata": {},
     "execution_count": 13
    }
   ],
   "source": [
    "# Calculate total purchase prices for each gender\n",
    "total_spent = price_data.sum()[\"Price\"]\n",
    "total_spent"
   ]
  },
  {
   "cell_type": "code",
   "execution_count": 14,
   "metadata": {},
   "outputs": [
    {
     "output_type": "execute_result",
     "data": {
      "text/plain": "Female                  $4.47\nMale                    $4.07\nOther / Non-Disclosed   $4.56\ndtype: float64"
     },
     "metadata": {},
     "execution_count": 14
    }
   ],
   "source": [
    "# Calculate Avg Total Purchase per Person for each gender\n",
    "Total_Count = df[\"Total Count\"]\n",
    "avg_total_purchase = total_spent.divide(Total_Count).round(2)\n",
    "avg_total_purchase"
   ]
  },
  {
   "cell_type": "code",
   "execution_count": 15,
   "metadata": {},
   "outputs": [
    {
     "output_type": "execute_result",
     "data": {
      "text/plain": "                       Purchase Count  $Average Purchase Price  \\\nMale                              652                    $3.02   \nFemale                            113                    $3.20   \nOther / Non-Disclosed              15                    $3.35   \n\n                       Total Purchase Value  Avg Total Purchase per Person  \nMale                              $1,967.64                          $4.07  \nFemale                              $361.94                          $4.47  \nOther / Non-Disclosed                $50.19                          $4.56  ",
      "text/html": "<div>\n<style scoped>\n    .dataframe tbody tr th:only-of-type {\n        vertical-align: middle;\n    }\n\n    .dataframe tbody tr th {\n        vertical-align: top;\n    }\n\n    .dataframe thead th {\n        text-align: right;\n    }\n</style>\n<table border=\"1\" class=\"dataframe\">\n  <thead>\n    <tr style=\"text-align: right;\">\n      <th></th>\n      <th>Purchase Count</th>\n      <th>$Average Purchase Price</th>\n      <th>Total Purchase Value</th>\n      <th>Avg Total Purchase per Person</th>\n    </tr>\n  </thead>\n  <tbody>\n    <tr>\n      <th>Male</th>\n      <td>652</td>\n      <td>$3.02</td>\n      <td>$1,967.64</td>\n      <td>$4.07</td>\n    </tr>\n    <tr>\n      <th>Female</th>\n      <td>113</td>\n      <td>$3.20</td>\n      <td>$361.94</td>\n      <td>$4.47</td>\n    </tr>\n    <tr>\n      <th>Other / Non-Disclosed</th>\n      <td>15</td>\n      <td>$3.35</td>\n      <td>$50.19</td>\n      <td>$4.56</td>\n    </tr>\n  </tbody>\n</table>\n</div>"
     },
     "metadata": {},
     "execution_count": 15
    }
   ],
   "source": [
    "# initialise data of lists. \n",
    "data2 = {\n",
    "    \"Purchase Count\":total_purchases, \n",
    "    \"$\"\"Average Purchase Price\":average_purchase_price, \n",
    "    \"Total Purchase Value\":total_spent,\n",
    "    \"Avg Total Purchase per Person\":avg_total_purchase\n",
    "} \n",
    "\n",
    "# Creates pandas DataFrame. \n",
    "df2 = pd.DataFrame(data2, index =['Male', 'Female', 'Other / Non-Disclosed']) \n",
    "  \n",
    "# print the data \n",
    "df2 "
   ]
  },
  {
   "cell_type": "code",
   "execution_count": 16,
   "metadata": {},
   "outputs": [
    {
     "output_type": "execute_result",
     "data": {
      "text/plain": "   Purchase Count Average Purchase Price Total Purchase Value\n0             780                  $3.05             $2379.77",
      "text/html": "<div>\n<style scoped>\n    .dataframe tbody tr th:only-of-type {\n        vertical-align: middle;\n    }\n\n    .dataframe tbody tr th {\n        vertical-align: top;\n    }\n\n    .dataframe thead th {\n        text-align: right;\n    }\n</style>\n<table border=\"1\" class=\"dataframe\">\n  <thead>\n    <tr style=\"text-align: right;\">\n      <th></th>\n      <th>Purchase Count</th>\n      <th>Average Purchase Price</th>\n      <th>Total Purchase Value</th>\n    </tr>\n  </thead>\n  <tbody>\n    <tr>\n      <th>0</th>\n      <td>780</td>\n      <td>$3.05</td>\n      <td>$2379.77</td>\n    </tr>\n  </tbody>\n</table>\n</div>"
     },
     "metadata": {},
     "execution_count": 16
    }
   ],
   "source": [
    "# PURCHASING ANALYSIS (Gender)\n",
    "summary2_df = summary_df[[\"Number of Purchases\", \"Average Price\", \"Total Revenue\"]]\n",
    "summary_renamed = summary2_df.rename(columns={\n",
    "    \"Number of Purchases\": \"Purchase Count\", \n",
    "    \"Average Price\": \"Average Purchase Price\", \n",
    "    \"Total Revenue\": \"Total Purchase Value\"}\n",
    "                                    )\n",
    "summary_renamed"
   ]
  },
  {
   "cell_type": "code",
   "execution_count": 17,
   "metadata": {},
   "outputs": [
    {
     "output_type": "execute_result",
     "data": {
      "text/plain": "       Total Count Percentage of Players\n<10             17                 2.95%\n10-14           22                 3.82%\n15-19          107                18.58%\n20-24          258                44.79%\n25-29           77                13.37%\n30-34           52                 9.03%\n35-39           31                 5.38%\n40+             12                 2.08%",
      "text/html": "<div>\n<style scoped>\n    .dataframe tbody tr th:only-of-type {\n        vertical-align: middle;\n    }\n\n    .dataframe tbody tr th {\n        vertical-align: top;\n    }\n\n    .dataframe thead th {\n        text-align: right;\n    }\n</style>\n<table border=\"1\" class=\"dataframe\">\n  <thead>\n    <tr style=\"text-align: right;\">\n      <th></th>\n      <th>Total Count</th>\n      <th>Percentage of Players</th>\n    </tr>\n  </thead>\n  <tbody>\n    <tr>\n      <th>&lt;10</th>\n      <td>17</td>\n      <td>2.95%</td>\n    </tr>\n    <tr>\n      <th>10-14</th>\n      <td>22</td>\n      <td>3.82%</td>\n    </tr>\n    <tr>\n      <th>15-19</th>\n      <td>107</td>\n      <td>18.58%</td>\n    </tr>\n    <tr>\n      <th>20-24</th>\n      <td>258</td>\n      <td>44.79%</td>\n    </tr>\n    <tr>\n      <th>25-29</th>\n      <td>77</td>\n      <td>13.37%</td>\n    </tr>\n    <tr>\n      <th>30-34</th>\n      <td>52</td>\n      <td>9.03%</td>\n    </tr>\n    <tr>\n      <th>35-39</th>\n      <td>31</td>\n      <td>5.38%</td>\n    </tr>\n    <tr>\n      <th>40+</th>\n      <td>12</td>\n      <td>2.08%</td>\n    </tr>\n  </tbody>\n</table>\n</div>"
     },
     "metadata": {},
     "execution_count": 17
    }
   ],
   "source": [
    "#AGE DEMOGRAPHICS\n",
    " \n",
    "#Establish bins for ages\n",
    "bins = [0,9,14,19,24,29,34,39,200]\n",
    "labels = ['<10','10-14','15-19','20-24','25-29','30-34','35-39','40+']\n",
    "#Categorize the existing players using the age bins. Hint: use pd.cut()\n",
    "cut_copy = cut_df.copy(deep=True)\n",
    "cut_copy['Age Group'] = pd.cut(cut_copy['Age'], bins=bins, labels=labels)\n",
    "\n",
    "#Calculate the numbers and percentages by age group\n",
    "\n",
    "age_group = cut_copy.groupby('Age Group')\n",
    "age_group_df = age_group.count()\n",
    "Total_Age_Count = age_group_df['Age']\n",
    "\n",
    "perc_age = (Total_Age_Count / len(cut_df)) * 100\n",
    "perc_age\n",
    "\n",
    "#Create a summary data frame to hold the results\n",
    "data3 = {\n",
    "    \"Total Count\":Total_Age_Count, \n",
    "    \"Percentage of Players\":perc_age\n",
    "} \n",
    "\n",
    "age_summary_df = pd.DataFrame(data3, index = labels) \n",
    "age_summary_df['Percentage of Players'] = age_summary_df['Percentage of Players'].map('{:,.2f}%'.format)\n",
    "#Optional: round the percentage column to two decimal points\n",
    "\n",
    "\n",
    "#Display Age Demographics Table\n",
    "age_summary_df"
   ]
  },
  {
   "cell_type": "code",
   "execution_count": 18,
   "metadata": {},
   "outputs": [
    {
     "output_type": "execute_result",
     "data": {
      "text/plain": "       Purchase Count  $Average Purchase Price  Total Purchase Value  \\\n<10                17                    $3.39                $57.63   \n10-14              22                    $3.07                $67.64   \n15-19             107                    $3.10               $331.88   \n20-24             258                    $3.06               $790.39   \n25-29              77                    $2.91               $223.93   \n30-34              52                    $2.92               $151.92   \n35-39              31                    $3.51               $108.81   \n40+                12                    $3.04                $36.45   \n\n       Avg Total Purchase per Person  \n<10                            $3.39  \n10-14                          $3.07  \n15-19                          $3.10  \n20-24                          $3.06  \n25-29                          $2.91  \n30-34                          $2.92  \n35-39                          $3.51  \n40+                            $3.04  ",
      "text/html": "<div>\n<style scoped>\n    .dataframe tbody tr th:only-of-type {\n        vertical-align: middle;\n    }\n\n    .dataframe tbody tr th {\n        vertical-align: top;\n    }\n\n    .dataframe thead th {\n        text-align: right;\n    }\n</style>\n<table border=\"1\" class=\"dataframe\">\n  <thead>\n    <tr style=\"text-align: right;\">\n      <th></th>\n      <th>Purchase Count</th>\n      <th>$Average Purchase Price</th>\n      <th>Total Purchase Value</th>\n      <th>Avg Total Purchase per Person</th>\n    </tr>\n  </thead>\n  <tbody>\n    <tr>\n      <th>&lt;10</th>\n      <td>17</td>\n      <td>$3.39</td>\n      <td>$57.63</td>\n      <td>$3.39</td>\n    </tr>\n    <tr>\n      <th>10-14</th>\n      <td>22</td>\n      <td>$3.07</td>\n      <td>$67.64</td>\n      <td>$3.07</td>\n    </tr>\n    <tr>\n      <th>15-19</th>\n      <td>107</td>\n      <td>$3.10</td>\n      <td>$331.88</td>\n      <td>$3.10</td>\n    </tr>\n    <tr>\n      <th>20-24</th>\n      <td>258</td>\n      <td>$3.06</td>\n      <td>$790.39</td>\n      <td>$3.06</td>\n    </tr>\n    <tr>\n      <th>25-29</th>\n      <td>77</td>\n      <td>$2.91</td>\n      <td>$223.93</td>\n      <td>$2.91</td>\n    </tr>\n    <tr>\n      <th>30-34</th>\n      <td>52</td>\n      <td>$2.92</td>\n      <td>$151.92</td>\n      <td>$2.92</td>\n    </tr>\n    <tr>\n      <th>35-39</th>\n      <td>31</td>\n      <td>$3.51</td>\n      <td>$108.81</td>\n      <td>$3.51</td>\n    </tr>\n    <tr>\n      <th>40+</th>\n      <td>12</td>\n      <td>$3.04</td>\n      <td>$36.45</td>\n      <td>$3.04</td>\n    </tr>\n  </tbody>\n</table>\n</div>"
     },
     "metadata": {},
     "execution_count": 18
    }
   ],
   "source": [
    "#PURCHASING ANALYSIS (Age)\n",
    " \n",
    "#Bin the purchase_data data frame by age\n",
    "    #Done in previou steps\n",
    "\n",
    "#Run basic calculations to obtain purchase count, avg. purchase price, avg. purchase total per person etc. in the table below\n",
    "clean_data_age_group_df = cut_copy.groupby('Age Group')\n",
    "purchase_count_age_group = clean_data_age_group_df.count()['Price']\n",
    "average_purchase_age_group = clean_data_age_group_df.mean()['Price']\n",
    "purchase_total_age_group = clean_data_age_group_df.sum()['Price']\n",
    "avg_total_purchase = purchase_total_age_group.divide(Total_Age_Count).round(2)\n",
    "\n",
    "purchase_analysis = {\n",
    "    \"Purchase Count\":purchase_count_age_group, \n",
    "    \"$\"\"Average Purchase Price\":average_purchase_age_group, \n",
    "    \"Total Purchase Value\":purchase_total_age_group,\n",
    "    \"Avg Total Purchase per Person\":avg_total_purchase\n",
    "} \n",
    "\n",
    "# Creates pandas DataFrame. \n",
    "purchase_analysis_df = pd.DataFrame(purchase_analysis, index =labels) \n",
    "\n",
    "#Display the summary data frame\n",
    "purchase_analysis_df"
   ]
  },
  {
   "cell_type": "code",
   "execution_count": 19,
   "metadata": {},
   "outputs": [
    {
     "output_type": "execute_result",
     "data": {
      "text/plain": "             Purchase Count  $Average Purchase Price  Total Purchase Value\nSN                                                                        \nLisosia93                 5                    $3.79                $18.96\nIdastidru52               4                    $3.86                $15.45\nChamjask73                3                    $4.61                $13.83\nIral74                    4                    $3.40                $13.62\nIskadarya95               3                    $4.37                $13.10",
      "text/html": "<div>\n<style scoped>\n    .dataframe tbody tr th:only-of-type {\n        vertical-align: middle;\n    }\n\n    .dataframe tbody tr th {\n        vertical-align: top;\n    }\n\n    .dataframe thead th {\n        text-align: right;\n    }\n</style>\n<table border=\"1\" class=\"dataframe\">\n  <thead>\n    <tr style=\"text-align: right;\">\n      <th></th>\n      <th>Purchase Count</th>\n      <th>$Average Purchase Price</th>\n      <th>Total Purchase Value</th>\n    </tr>\n    <tr>\n      <th>SN</th>\n      <th></th>\n      <th></th>\n      <th></th>\n    </tr>\n  </thead>\n  <tbody>\n    <tr>\n      <th>Lisosia93</th>\n      <td>5</td>\n      <td>$3.79</td>\n      <td>$18.96</td>\n    </tr>\n    <tr>\n      <th>Idastidru52</th>\n      <td>4</td>\n      <td>$3.86</td>\n      <td>$15.45</td>\n    </tr>\n    <tr>\n      <th>Chamjask73</th>\n      <td>3</td>\n      <td>$4.61</td>\n      <td>$13.83</td>\n    </tr>\n    <tr>\n      <th>Iral74</th>\n      <td>4</td>\n      <td>$3.40</td>\n      <td>$13.62</td>\n    </tr>\n    <tr>\n      <th>Iskadarya95</th>\n      <td>3</td>\n      <td>$4.37</td>\n      <td>$13.10</td>\n    </tr>\n  </tbody>\n</table>\n</div>"
     },
     "metadata": {},
     "execution_count": 19
    }
   ],
   "source": [
    "#TOP SPENDERS\n",
    "\n",
    "\n",
    "\n",
    "#Run basic calculations to obtain the results in the table below\n",
    "top_spenders_group_by_df = purchase_data.groupby('SN')\n",
    "\n",
    "#Create a summary data frame to hold the results\n",
    "purchase_count_top = top_spenders_group_by_df.count()['Price']\n",
    "average_purchase_top = top_spenders_group_by_df.mean()['Price']\n",
    "purchase_total_top = top_spenders_group_by_df.sum()['Price']\n",
    "top_spenders_object = {\n",
    "    \"Purchase Count\":purchase_count_top, \n",
    "    \"$\"\"Average Purchase Price\":average_purchase_top, \n",
    "    \"Total Purchase Value\":purchase_total_top\n",
    "} \n",
    "\n",
    "# Creates pandas DataFrame. \n",
    "top_spenders_df = pd.DataFrame(top_spenders_object) \n",
    "\n",
    "#Sort the total purchase value column in descending order\n",
    "sorted_top_spenders_df = top_spenders_df.sort_values(by=['Total Purchase Value'], ascending=False)\n",
    "\n",
    "#Optional: give the displayed data cleaner formatting\n",
    "\n",
    "#Display a preview of the summary data frame\n",
    "sorted_top_spenders_df.head(5)"
   ]
  },
  {
   "cell_type": "code",
   "execution_count": 20,
   "metadata": {},
   "outputs": [
    {
     "output_type": "execute_result",
     "data": {
      "text/plain": "                                                      Purchase Count  \\\nItem ID Item Name                                                      \n92      Final Critic                                              13   \n178     Oathbreaker, Last Hope of the Breaking Storm              12   \n145     Fiery Glass Crusader                                       9   \n132     Persuasion                                                 9   \n108     Extraction, Quickblade Of Trembling Hands                  9   \n\n                                                      Item Price  \\\nItem ID Item Name                                                  \n92      Final Critic                                       $4.61   \n178     Oathbreaker, Last Hope of the Breaking Storm       $4.23   \n145     Fiery Glass Crusader                               $4.58   \n132     Persuasion                                         $3.22   \n108     Extraction, Quickblade Of Trembling Hands          $3.53   \n\n                                                      Total Purchase Value  \nItem ID Item Name                                                           \n92      Final Critic                                                $59.99  \n178     Oathbreaker, Last Hope of the Breaking Storm                $50.76  \n145     Fiery Glass Crusader                                        $41.22  \n132     Persuasion                                                  $28.99  \n108     Extraction, Quickblade Of Trembling Hands                   $31.77  ",
      "text/html": "<div>\n<style scoped>\n    .dataframe tbody tr th:only-of-type {\n        vertical-align: middle;\n    }\n\n    .dataframe tbody tr th {\n        vertical-align: top;\n    }\n\n    .dataframe thead th {\n        text-align: right;\n    }\n</style>\n<table border=\"1\" class=\"dataframe\">\n  <thead>\n    <tr style=\"text-align: right;\">\n      <th></th>\n      <th></th>\n      <th>Purchase Count</th>\n      <th>Item Price</th>\n      <th>Total Purchase Value</th>\n    </tr>\n    <tr>\n      <th>Item ID</th>\n      <th>Item Name</th>\n      <th></th>\n      <th></th>\n      <th></th>\n    </tr>\n  </thead>\n  <tbody>\n    <tr>\n      <th>92</th>\n      <th>Final Critic</th>\n      <td>13</td>\n      <td>$4.61</td>\n      <td>$59.99</td>\n    </tr>\n    <tr>\n      <th>178</th>\n      <th>Oathbreaker, Last Hope of the Breaking Storm</th>\n      <td>12</td>\n      <td>$4.23</td>\n      <td>$50.76</td>\n    </tr>\n    <tr>\n      <th>145</th>\n      <th>Fiery Glass Crusader</th>\n      <td>9</td>\n      <td>$4.58</td>\n      <td>$41.22</td>\n    </tr>\n    <tr>\n      <th>132</th>\n      <th>Persuasion</th>\n      <td>9</td>\n      <td>$3.22</td>\n      <td>$28.99</td>\n    </tr>\n    <tr>\n      <th>108</th>\n      <th>Extraction, Quickblade Of Trembling Hands</th>\n      <td>9</td>\n      <td>$3.53</td>\n      <td>$31.77</td>\n    </tr>\n  </tbody>\n</table>\n</div>"
     },
     "metadata": {},
     "execution_count": 20
    }
   ],
   "source": [
    "#Most Popular Items\n",
    " \n",
    "#Retrieve the Item ID, Item Name, and Item Price columns\n",
    "temp_popular_items = {\n",
    "    \"Item ID\": purchase_data['Item ID'],\n",
    "    \"Item Name\": purchase_data['Item Name'],\n",
    "    \"Item Price\": purchase_data['Price'],\n",
    "}\n",
    "temp_popular_items_df = pd.DataFrame(temp_popular_items)\n",
    "\n",
    "#Group by Item ID and Item Name. Perform calculations to obtain purchase count, item price, and total purchase value\n",
    "group_by_items = temp_popular_items_df.groupby(['Item ID', 'Item Name'])\n",
    "\n",
    "#Purchase Count\n",
    "purchase_count_popular_items = group_by_items.size()\n",
    "#Item Price\n",
    "purchase_price_popular_items = group_by_items.mean()['Item Price']\n",
    "#Total Purchase Value\n",
    "total_purchase_value_items = group_by_items.sum()['Item Price']\n",
    "\n",
    "#Create a summary data frame to hold the results\n",
    "popular_items = {\n",
    "    \"Purchase Count\": purchase_count_popular_items,\n",
    "    \"Item Price\": purchase_price_popular_items,\n",
    "    \"Total Purchase Value\": total_purchase_value_items\n",
    "}\n",
    "popular_items_df = pd.DataFrame(popular_items)\n",
    "\n",
    "#Sort the purchase count column in descending order\n",
    "sorted_popular_items_df = popular_items_df.sort_values(by=['Purchase Count'], ascending=False)\n",
    "\n",
    "#Optional: give the displayed data cleaner formatting\n",
    "\n",
    "\n",
    "#Display a preview of the summary data frame\n",
    "sorted_popular_items_df.head(5)"
   ]
  },
  {
   "cell_type": "code",
   "execution_count": 21,
   "metadata": {},
   "outputs": [
    {
     "output_type": "execute_result",
     "data": {
      "text/plain": "                                                      Purchase Count  \\\nItem ID Item Name                                                      \n92      Final Critic                                              13   \n178     Oathbreaker, Last Hope of the Breaking Storm              12   \n82      Nirvana                                                    9   \n145     Fiery Glass Crusader                                       9   \n103     Singed Scalpel                                             8   \n\n                                                      Item Price  \\\nItem ID Item Name                                                  \n92      Final Critic                                       $4.61   \n178     Oathbreaker, Last Hope of the Breaking Storm       $4.23   \n82      Nirvana                                            $4.90   \n145     Fiery Glass Crusader                               $4.58   \n103     Singed Scalpel                                     $4.35   \n\n                                                      Total Purchase Value  \nItem ID Item Name                                                           \n92      Final Critic                                                $59.99  \n178     Oathbreaker, Last Hope of the Breaking Storm                $50.76  \n82      Nirvana                                                     $44.10  \n145     Fiery Glass Crusader                                        $41.22  \n103     Singed Scalpel                                              $34.80  ",
      "text/html": "<div>\n<style scoped>\n    .dataframe tbody tr th:only-of-type {\n        vertical-align: middle;\n    }\n\n    .dataframe tbody tr th {\n        vertical-align: top;\n    }\n\n    .dataframe thead th {\n        text-align: right;\n    }\n</style>\n<table border=\"1\" class=\"dataframe\">\n  <thead>\n    <tr style=\"text-align: right;\">\n      <th></th>\n      <th></th>\n      <th>Purchase Count</th>\n      <th>Item Price</th>\n      <th>Total Purchase Value</th>\n    </tr>\n    <tr>\n      <th>Item ID</th>\n      <th>Item Name</th>\n      <th></th>\n      <th></th>\n      <th></th>\n    </tr>\n  </thead>\n  <tbody>\n    <tr>\n      <th>92</th>\n      <th>Final Critic</th>\n      <td>13</td>\n      <td>$4.61</td>\n      <td>$59.99</td>\n    </tr>\n    <tr>\n      <th>178</th>\n      <th>Oathbreaker, Last Hope of the Breaking Storm</th>\n      <td>12</td>\n      <td>$4.23</td>\n      <td>$50.76</td>\n    </tr>\n    <tr>\n      <th>82</th>\n      <th>Nirvana</th>\n      <td>9</td>\n      <td>$4.90</td>\n      <td>$44.10</td>\n    </tr>\n    <tr>\n      <th>145</th>\n      <th>Fiery Glass Crusader</th>\n      <td>9</td>\n      <td>$4.58</td>\n      <td>$41.22</td>\n    </tr>\n    <tr>\n      <th>103</th>\n      <th>Singed Scalpel</th>\n      <td>8</td>\n      <td>$4.35</td>\n      <td>$34.80</td>\n    </tr>\n  </tbody>\n</table>\n</div>"
     },
     "metadata": {},
     "execution_count": 21
    }
   ],
   "source": [
    "#Most Profitable Items\n",
    " \n",
    "#Sort the above table by total purchase value in descending order\n",
    "most_profitable_items_df = popular_items_df.sort_values(by=['Total Purchase Value'], ascending=False)\n",
    "#Purchase Count\n",
    "#Item Price\n",
    "#Total Purchase Value\n",
    "\n",
    "#Optional: give the displayed data cleaner formatting\n",
    "\n",
    "\n",
    "#Display a preview of the data frame\n",
    "most_profitable_items_df.head(5)"
   ]
  }
 ],
 "metadata": {
  "kernelspec": {
   "display_name": "Python 3",
   "language": "python",
   "name": "python3"
  },
  "language_info": {
   "codemirror_mode": {
    "name": "ipython",
    "version": 3
   },
   "file_extension": ".py",
   "mimetype": "text/x-python",
   "name": "python",
   "nbconvert_exporter": "python",
   "pygments_lexer": "ipython3",
   "version": "3.8.5-final"
  }
 },
 "nbformat": 4,
 "nbformat_minor": 4
}
